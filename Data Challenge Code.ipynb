{
 "cells": [
  {
   "cell_type": "code",
   "execution_count": 207,
   "metadata": {
    "ExecuteTime": {
     "end_time": "2020-07-23T00:32:29.055027Z",
     "start_time": "2020-07-23T00:32:28.645141Z"
    }
   },
   "outputs": [],
   "source": [
    "import pandas as pd\n",
    "import numpy as np\n",
    "import random\n",
    "import datetime\n",
    "import matplotlib.pyplot as plt\n",
    "from pandasql import sqldf"
   ]
  },
  {
   "cell_type": "markdown",
   "metadata": {},
   "source": [
    "# Step 1"
   ]
  },
  {
   "cell_type": "code",
   "execution_count": 33,
   "metadata": {
    "ExecuteTime": {
     "end_time": "2020-07-22T20:23:25.043711Z",
     "start_time": "2020-07-22T20:23:24.788239Z"
    }
   },
   "outputs": [],
   "source": [
    "dates = []\n",
    "rater = []\n",
    "correct_answer_3 = []\n",
    "correct_answer_5 = []\n",
    "three_label = ['Low', 'Average', 'High']\n",
    "five_label = ['Bad', 'Okay', 'Intermediate', 'Great', 'Exceptional']\n",
    "\n",
    "rater_answer_3 = []\n",
    "rater_answer_5 = []\n",
    "for i in range(10000):\n",
    "    dates.append(datetime.date(2005, 10,random.randint(1,30)).strftime(\"%m-%d-%y\"))\n",
    "    rater.append(random.choice('ABCDE'))\n",
    "    correct_answer_3.append(random.choice(three_label))\n",
    "    correct_answer_5.append(random.choice(five_label))\n",
    "    rater_answer_3.append(random.choice(three_label))\n",
    "    rater_answer_5.append(random.choice(five_label))\n",
    "\n"
   ]
  },
  {
   "cell_type": "code",
   "execution_count": 39,
   "metadata": {
    "ExecuteTime": {
     "end_time": "2020-07-22T20:26:47.412764Z",
     "start_time": "2020-07-22T20:26:47.391921Z"
    }
   },
   "outputs": [],
   "source": [
    "df = pd.DataFrame()\n",
    "df['Date Column'] = dates\n",
    "df['Rater Column'] = rater\n",
    "df['Correct Answer 3 Label'] = correct_answer_3\n",
    "df['Correct Answer 5 Label'] = correct_answer_5\n",
    "df['Rater Answer 3 Label'] = rater_answer_3\n",
    "df['Rater Answer 5 Label'] = rater_answer_5\n",
    "df['Task ID'] = range(1,10001)\n"
   ]
  },
  {
   "cell_type": "code",
   "execution_count": 157,
   "metadata": {
    "ExecuteTime": {
     "end_time": "2020-07-22T22:30:53.178190Z",
     "start_time": "2020-07-22T22:30:53.153490Z"
    }
   },
   "outputs": [
    {
     "data": {
      "text/html": [
       "<div>\n",
       "<style scoped>\n",
       "    .dataframe tbody tr th:only-of-type {\n",
       "        vertical-align: middle;\n",
       "    }\n",
       "\n",
       "    .dataframe tbody tr th {\n",
       "        vertical-align: top;\n",
       "    }\n",
       "\n",
       "    .dataframe thead th {\n",
       "        text-align: right;\n",
       "    }\n",
       "</style>\n",
       "<table border=\"1\" class=\"dataframe\">\n",
       "  <thead>\n",
       "    <tr style=\"text-align: right;\">\n",
       "      <th></th>\n",
       "      <th>Date Column</th>\n",
       "      <th>Rater Column</th>\n",
       "      <th>Correct Answer 3 Label</th>\n",
       "      <th>Correct Answer 5 Label</th>\n",
       "      <th>Rater Answer 3 Label</th>\n",
       "      <th>Rater Answer 5 Label</th>\n",
       "      <th>Task ID</th>\n",
       "      <th>Three Label Agreement</th>\n",
       "      <th>Five Label Agreement</th>\n",
       "    </tr>\n",
       "  </thead>\n",
       "  <tbody>\n",
       "    <tr>\n",
       "      <th>0</th>\n",
       "      <td>10-17-05</td>\n",
       "      <td>B</td>\n",
       "      <td>Average</td>\n",
       "      <td>Intermediate</td>\n",
       "      <td>Low</td>\n",
       "      <td>Okay</td>\n",
       "      <td>1</td>\n",
       "      <td>False</td>\n",
       "      <td>False</td>\n",
       "    </tr>\n",
       "    <tr>\n",
       "      <th>1</th>\n",
       "      <td>10-29-05</td>\n",
       "      <td>A</td>\n",
       "      <td>High</td>\n",
       "      <td>Bad</td>\n",
       "      <td>Average</td>\n",
       "      <td>Bad</td>\n",
       "      <td>2</td>\n",
       "      <td>False</td>\n",
       "      <td>True</td>\n",
       "    </tr>\n",
       "    <tr>\n",
       "      <th>2</th>\n",
       "      <td>10-21-05</td>\n",
       "      <td>A</td>\n",
       "      <td>Average</td>\n",
       "      <td>Intermediate</td>\n",
       "      <td>Average</td>\n",
       "      <td>Exceptional</td>\n",
       "      <td>3</td>\n",
       "      <td>True</td>\n",
       "      <td>False</td>\n",
       "    </tr>\n",
       "    <tr>\n",
       "      <th>3</th>\n",
       "      <td>10-17-05</td>\n",
       "      <td>C</td>\n",
       "      <td>Average</td>\n",
       "      <td>Bad</td>\n",
       "      <td>Low</td>\n",
       "      <td>Intermediate</td>\n",
       "      <td>4</td>\n",
       "      <td>False</td>\n",
       "      <td>False</td>\n",
       "    </tr>\n",
       "    <tr>\n",
       "      <th>4</th>\n",
       "      <td>10-01-05</td>\n",
       "      <td>C</td>\n",
       "      <td>Average</td>\n",
       "      <td>Great</td>\n",
       "      <td>Average</td>\n",
       "      <td>Bad</td>\n",
       "      <td>5</td>\n",
       "      <td>True</td>\n",
       "      <td>False</td>\n",
       "    </tr>\n",
       "  </tbody>\n",
       "</table>\n",
       "</div>"
      ],
      "text/plain": [
       "  Date Column Rater Column Correct Answer 3 Label Correct Answer 5 Label  \\\n",
       "0    10-17-05            B                Average           Intermediate   \n",
       "1    10-29-05            A                   High                    Bad   \n",
       "2    10-21-05            A                Average           Intermediate   \n",
       "3    10-17-05            C                Average                    Bad   \n",
       "4    10-01-05            C                Average                  Great   \n",
       "\n",
       "  Rater Answer 3 Label Rater Answer 5 Label  Task ID  Three Label Agreement  \\\n",
       "0                  Low                 Okay        1                  False   \n",
       "1              Average                  Bad        2                  False   \n",
       "2              Average          Exceptional        3                   True   \n",
       "3                  Low         Intermediate        4                  False   \n",
       "4              Average                  Bad        5                   True   \n",
       "\n",
       "   Five Label Agreement  \n",
       "0                 False  \n",
       "1                  True  \n",
       "2                 False  \n",
       "3                 False  \n",
       "4                 False  "
      ]
     },
     "execution_count": 157,
     "metadata": {},
     "output_type": "execute_result"
    }
   ],
   "source": [
    "df.head()"
   ]
  },
  {
   "cell_type": "markdown",
   "metadata": {},
   "source": [
    "# Step 2"
   ]
  },
  {
   "cell_type": "code",
   "execution_count": 42,
   "metadata": {
    "ExecuteTime": {
     "end_time": "2020-07-22T20:31:07.510885Z",
     "start_time": "2020-07-22T20:31:07.496189Z"
    }
   },
   "outputs": [],
   "source": [
    "df['Three Label Agreement'] = df['Correct Answer 3 Label'] == df['Rater Answer 3 Label']\n",
    "df['Five Label Agreement'] = df['Correct Answer 5 Label'] == df['Rater Answer 5 Label']"
   ]
  },
  {
   "cell_type": "markdown",
   "metadata": {},
   "source": [
    "# What is the agreement rate between the engineer and all the raters for each day?"
   ]
  },
  {
   "cell_type": "code",
   "execution_count": 221,
   "metadata": {
    "ExecuteTime": {
     "end_time": "2020-07-23T03:05:17.789342Z",
     "start_time": "2020-07-23T03:05:16.970265Z"
    }
   },
   "outputs": [
    {
     "data": {
      "image/png": "[encoded data removed]",
      "text/plain": [
       "<Figure size 432x288 with 1 Axes>"
      ]
     },
     "metadata": {
      "needs_background": "light"
     },
     "output_type": "display_data"
    }
   ],
   "source": [
    "(df[['Date Column','Three Label Agreement', 'Five Label Agreement']].groupby('Date Column')\n",
    " .mean().plot(title = 'Agreement Rate Separated', kind = 'bar'))\n",
    "plt.savefig('agreement_rate_each_day_separated.png', dpi = 300)"
   ]
  },
  {
   "cell_type": "code",
   "execution_count": 220,
   "metadata": {
    "ExecuteTime": {
     "end_time": "2020-07-23T03:04:33.444015Z",
     "start_time": "2020-07-23T03:04:32.845140Z"
    }
   },
   "outputs": [
    {
     "name": "stdout",
     "output_type": "stream",
     "text": [
      "Date Column\n",
      "10-01-05    0.245714\n",
      "10-02-05    0.229299\n",
      "10-03-05    0.268595\n",
      "10-04-05    0.263554\n",
      "10-05-05    0.200608\n",
      "10-06-05    0.254412\n",
      "10-07-05    0.231322\n",
      "10-08-05    0.282209\n",
      "10-09-05    0.266369\n",
      "10-10-05    0.287975\n",
      "10-11-05    0.258462\n",
      "10-12-05    0.258730\n",
      "10-13-05    0.264946\n",
      "10-14-05    0.242857\n",
      "10-15-05    0.295588\n",
      "10-16-05    0.247041\n",
      "10-17-05    0.264610\n",
      "10-18-05    0.280374\n",
      "10-19-05    0.230435\n",
      "10-20-05    0.292264\n",
      "10-21-05    0.280186\n",
      "10-22-05    0.253521\n",
      "10-23-05    0.268987\n",
      "10-24-05    0.263393\n",
      "10-25-05    0.271307\n",
      "10-26-05    0.267213\n",
      "10-27-05    0.253918\n",
      "10-28-05    0.224924\n",
      "10-29-05    0.244475\n",
      "10-30-05    0.246154\n",
      "dtype: float64\n"
     ]
    },
    {
     "data": {
      "image/png": "[encoded data removed]",
      "text/plain": [
       "<Figure size 432x288 with 1 Axes>"
      ]
     },
     "metadata": {
      "needs_background": "light"
     },
     "output_type": "display_data"
    }
   ],
   "source": [
    "label_mean_df = df[['Date Column','Three Label Agreement', 'Five Label Agreement']].groupby('Date Column').mean()\n",
    "total = label_mean_df.mean(axis =1)\n",
    "\n",
    "total.plot(title = 'Agreement Rate', kind = 'bar')\n",
    "print(total)\n",
    "plt.savefig('agreementrateeachday.png', dpi = 300)"
   ]
  },
  {
   "cell_type": "markdown",
   "metadata": {},
   "source": [
    "# What is the agreement rate between the engineer and all the raters for each week?"
   ]
  },
  {
   "cell_type": "code",
   "execution_count": 135,
   "metadata": {
    "ExecuteTime": {
     "end_time": "2020-07-22T21:47:26.131750Z",
     "start_time": "2020-07-22T21:47:25.872087Z"
    }
   },
   "outputs": [
    {
     "name": "stderr",
     "output_type": "stream",
     "text": [
      "c:\\users\\jenny\\appdata\\local\\programs\\python\\python37\\lib\\site-packages\\ipykernel_launcher.py:10: SettingWithCopyWarning: \n",
      "A value is trying to be set on a copy of a slice from a DataFrame.\n",
      "Try using .loc[row_indexer,col_indexer] = value instead\n",
      "\n",
      "See the caveats in the documentation: https://pandas.pydata.org/pandas-docs/stable/user_guide/indexing.html#returning-a-view-versus-a-copy\n",
      "  # Remove the CWD from sys.path while we load stuff.\n"
     ]
    }
   ],
   "source": [
    "week_dict = {'39': '10-01-05 to 10-02-05', '40': '10-03-05 to 10-09-05',\n",
    "            '41': '10-10-05 to 10-16-05', '42': '10-17-05 to 10-23-05',\n",
    "            '43': '10-24-05 to 10-30-05'}\n",
    "week_dates = []\n",
    "week = []\n",
    "for i in df['Date Column'].astype('datetime64[ns]'):\n",
    "    week.append(i.strftime('%V'))\n",
    "    week_dates.append(week_dict[i.strftime('%V')])\n",
    "weekly_df = df[['Three Label Agreement', 'Five Label Agreement']]\n",
    "weekly_df['Week'] = week_dates"
   ]
  },
  {
   "cell_type": "code",
   "execution_count": 219,
   "metadata": {
    "ExecuteTime": {
     "end_time": "2020-07-23T03:04:01.102470Z",
     "start_time": "2020-07-23T03:04:00.610024Z"
    }
   },
   "outputs": [
    {
     "name": "stdout",
     "output_type": "stream",
     "text": [
      "                      Three Label Agreement  Five Label Agreement\n",
      "Week                                                             \n",
      "10-01-05 to 10-02-05               0.299699              0.176205\n",
      "10-03-05 to 10-09-05               0.310447              0.194608\n",
      "10-10-05 to 10-16-05               0.335779              0.194648\n",
      "10-17-05 to 10-23-05               0.328874              0.205006\n",
      "10-24-05 to 10-30-05               0.307990              0.198024\n"
     ]
    },
    {
     "data": {
      "image/png": "[encoded data removed]",
      "text/plain": [
       "<Figure size 432x288 with 1 Axes>"
      ]
     },
     "metadata": {
      "needs_background": "light"
     },
     "output_type": "display_data"
    }
   ],
   "source": [
    "weekly_df.groupby('Week').mean().plot(title = 'Weekly Agreement Rate Separated', kind = 'bar')\n",
    "print(weekly_df.groupby('Week').mean())\n",
    "plt.savefig('weeklyagreementrate.png', dpi = 300)"
   ]
  },
  {
   "cell_type": "code",
   "execution_count": 216,
   "metadata": {
    "ExecuteTime": {
     "end_time": "2020-07-23T03:02:42.983490Z",
     "start_time": "2020-07-23T03:02:42.558564Z"
    }
   },
   "outputs": [
    {
     "name": "stdout",
     "output_type": "stream",
     "text": [
      "Week\n",
      "10-01-05 to 10-02-05    0.237952\n",
      "10-03-05 to 10-09-05    0.252527\n",
      "10-10-05 to 10-16-05    0.265214\n",
      "10-17-05 to 10-23-05    0.266940\n",
      "10-24-05 to 10-30-05    0.253007\n",
      "dtype: float64\n"
     ]
    },
    {
     "data": {
      "image/png": "[encoded data removed]",
      "text/plain": [
       "<Figure size 432x288 with 1 Axes>"
      ]
     },
     "metadata": {
      "needs_background": "light"
     },
     "output_type": "display_data"
    }
   ],
   "source": [
    "total_weekly = weekly_df.groupby('Week').mean()\n",
    "weekly_bar = total_weekly.mean(axis = 1)\n",
    "weekly_bar.plot(title= 'Total Agreement Rate', kind = 'bar')\n",
    "print(weekly_bar)\n",
    "plt.savefig('test.png', dpi = 300)"
   ]
  },
  {
   "cell_type": "markdown",
   "metadata": {},
   "source": [
    "# Identify raters that have the highest agreement rates with the engineer."
   ]
  },
  {
   "cell_type": "code",
   "execution_count": 146,
   "metadata": {
    "ExecuteTime": {
     "end_time": "2020-07-22T21:52:32.271627Z",
     "start_time": "2020-07-22T21:52:32.244959Z"
    }
   },
   "outputs": [
    {
     "name": "stdout",
     "output_type": "stream",
     "text": [
      "              Three Label Agreement  Five Label Agreement\n",
      "Rater Column                                             \n",
      "A                          0.299252              0.181546\n",
      "B                          0.335806              0.184471\n",
      "C                          0.320688              0.203844\n",
      "D                          0.324365              0.196954\n",
      "E                          0.316387              0.216190\n"
     ]
    }
   ],
   "source": [
    "rater_agreement_df = df[['Rater Column', 'Three Label Agreement', 'Five Label Agreement']].groupby('Rater Column').mean()\n",
    "print(rater_agreement_df)"
   ]
  },
  {
   "cell_type": "markdown",
   "metadata": {},
   "source": [
    "Averaging the rates of two rating labels"
   ]
  },
  {
   "cell_type": "code",
   "execution_count": 156,
   "metadata": {
    "ExecuteTime": {
     "end_time": "2020-07-22T22:08:35.424681Z",
     "start_time": "2020-07-22T22:08:35.401638Z"
    }
   },
   "outputs": [
    {
     "name": "stdout",
     "output_type": "stream",
     "text": [
      "Rater Column\n",
      "A    0.240399\n",
      "B    0.260138\n",
      "C    0.262266\n",
      "D    0.260660\n",
      "E    0.266288\n",
      "dtype: float64\n"
     ]
    }
   ],
   "source": [
    "agreement_rate = rater_agreement_df.mean(axis =1 )\n",
    "print (agreement_rate)"
   ]
  },
  {
   "cell_type": "markdown",
   "metadata": {},
   "source": [
    "On average, Rater E has the highest agreement rates with the engineers. However Rater B has the highest agreement rates for the three labels. "
   ]
  },
  {
   "cell_type": "markdown",
   "metadata": {},
   "source": [
    "# Identify raters that have the lowest agreement rates with the engineer."
   ]
  },
  {
   "cell_type": "markdown",
   "metadata": {},
   "source": [
    "Based on the previous analysis, we can see that the lower agreement rater is Rater A with 0.240. "
   ]
  },
  {
   "cell_type": "markdown",
   "metadata": {},
   "source": [
    "# What is the precision for each of the 5 labels?"
   ]
  },
  {
   "cell_type": "code",
   "execution_count": 158,
   "metadata": {
    "ExecuteTime": {
     "end_time": "2020-07-22T22:38:04.245116Z",
     "start_time": "2020-07-22T22:38:04.222547Z"
    }
   },
   "outputs": [
    {
     "data": {
      "text/html": [
       "<div>\n",
       "<style scoped>\n",
       "    .dataframe tbody tr th:only-of-type {\n",
       "        vertical-align: middle;\n",
       "    }\n",
       "\n",
       "    .dataframe tbody tr th {\n",
       "        vertical-align: top;\n",
       "    }\n",
       "\n",
       "    .dataframe thead th {\n",
       "        text-align: right;\n",
       "    }\n",
       "</style>\n",
       "<table border=\"1\" class=\"dataframe\">\n",
       "  <thead>\n",
       "    <tr style=\"text-align: right;\">\n",
       "      <th></th>\n",
       "      <th>Date Column</th>\n",
       "      <th>Rater Column</th>\n",
       "      <th>Correct Answer 3 Label</th>\n",
       "      <th>Correct Answer 5 Label</th>\n",
       "      <th>Rater Answer 3 Label</th>\n",
       "      <th>Rater Answer 5 Label</th>\n",
       "      <th>Task ID</th>\n",
       "      <th>Three Label Agreement</th>\n",
       "      <th>Five Label Agreement</th>\n",
       "    </tr>\n",
       "  </thead>\n",
       "  <tbody>\n",
       "    <tr>\n",
       "      <th>0</th>\n",
       "      <td>10-17-05</td>\n",
       "      <td>B</td>\n",
       "      <td>Average</td>\n",
       "      <td>Intermediate</td>\n",
       "      <td>Low</td>\n",
       "      <td>Okay</td>\n",
       "      <td>1</td>\n",
       "      <td>False</td>\n",
       "      <td>False</td>\n",
       "    </tr>\n",
       "    <tr>\n",
       "      <th>1</th>\n",
       "      <td>10-29-05</td>\n",
       "      <td>A</td>\n",
       "      <td>High</td>\n",
       "      <td>Bad</td>\n",
       "      <td>Average</td>\n",
       "      <td>Bad</td>\n",
       "      <td>2</td>\n",
       "      <td>False</td>\n",
       "      <td>True</td>\n",
       "    </tr>\n",
       "    <tr>\n",
       "      <th>2</th>\n",
       "      <td>10-21-05</td>\n",
       "      <td>A</td>\n",
       "      <td>Average</td>\n",
       "      <td>Intermediate</td>\n",
       "      <td>Average</td>\n",
       "      <td>Exceptional</td>\n",
       "      <td>3</td>\n",
       "      <td>True</td>\n",
       "      <td>False</td>\n",
       "    </tr>\n",
       "    <tr>\n",
       "      <th>3</th>\n",
       "      <td>10-17-05</td>\n",
       "      <td>C</td>\n",
       "      <td>Average</td>\n",
       "      <td>Bad</td>\n",
       "      <td>Low</td>\n",
       "      <td>Intermediate</td>\n",
       "      <td>4</td>\n",
       "      <td>False</td>\n",
       "      <td>False</td>\n",
       "    </tr>\n",
       "    <tr>\n",
       "      <th>4</th>\n",
       "      <td>10-01-05</td>\n",
       "      <td>C</td>\n",
       "      <td>Average</td>\n",
       "      <td>Great</td>\n",
       "      <td>Average</td>\n",
       "      <td>Bad</td>\n",
       "      <td>5</td>\n",
       "      <td>True</td>\n",
       "      <td>False</td>\n",
       "    </tr>\n",
       "  </tbody>\n",
       "</table>\n",
       "</div>"
      ],
      "text/plain": [
       "  Date Column Rater Column Correct Answer 3 Label Correct Answer 5 Label  \\\n",
       "0    10-17-05            B                Average           Intermediate   \n",
       "1    10-29-05            A                   High                    Bad   \n",
       "2    10-21-05            A                Average           Intermediate   \n",
       "3    10-17-05            C                Average                    Bad   \n",
       "4    10-01-05            C                Average                  Great   \n",
       "\n",
       "  Rater Answer 3 Label Rater Answer 5 Label  Task ID  Three Label Agreement  \\\n",
       "0                  Low                 Okay        1                  False   \n",
       "1              Average                  Bad        2                  False   \n",
       "2              Average          Exceptional        3                   True   \n",
       "3                  Low         Intermediate        4                  False   \n",
       "4              Average                  Bad        5                   True   \n",
       "\n",
       "   Five Label Agreement  \n",
       "0                 False  \n",
       "1                  True  \n",
       "2                 False  \n",
       "3                 False  \n",
       "4                 False  "
      ]
     },
     "execution_count": 158,
     "metadata": {},
     "output_type": "execute_result"
    }
   ],
   "source": [
    "df.head()"
   ]
  },
  {
   "cell_type": "code",
   "execution_count": 197,
   "metadata": {
    "ExecuteTime": {
     "end_time": "2020-07-22T23:24:27.120030Z",
     "start_time": "2020-07-22T23:24:27.090059Z"
    }
   },
   "outputs": [
    {
     "name": "stdout",
     "output_type": "stream",
     "text": [
      "Precision for each of the 5 labels:\n"
     ]
    },
    {
     "data": {
      "text/html": [
       "<div>\n",
       "<style scoped>\n",
       "    .dataframe tbody tr th:only-of-type {\n",
       "        vertical-align: middle;\n",
       "    }\n",
       "\n",
       "    .dataframe tbody tr th {\n",
       "        vertical-align: top;\n",
       "    }\n",
       "\n",
       "    .dataframe thead th {\n",
       "        text-align: right;\n",
       "    }\n",
       "</style>\n",
       "<table border=\"1\" class=\"dataframe\">\n",
       "  <thead>\n",
       "    <tr style=\"text-align: right;\">\n",
       "      <th></th>\n",
       "      <th>Precision</th>\n",
       "    </tr>\n",
       "    <tr>\n",
       "      <th>Rater Answer 5 Label</th>\n",
       "      <th></th>\n",
       "    </tr>\n",
       "  </thead>\n",
       "  <tbody>\n",
       "    <tr>\n",
       "      <th>Bad</th>\n",
       "      <td>0.207081</td>\n",
       "    </tr>\n",
       "    <tr>\n",
       "      <th>Exceptional</th>\n",
       "      <td>0.188737</td>\n",
       "    </tr>\n",
       "    <tr>\n",
       "      <th>Great</th>\n",
       "      <td>0.197964</td>\n",
       "    </tr>\n",
       "    <tr>\n",
       "      <th>Intermediate</th>\n",
       "      <td>0.195233</td>\n",
       "    </tr>\n",
       "    <tr>\n",
       "      <th>Okay</th>\n",
       "      <td>0.193596</td>\n",
       "    </tr>\n",
       "  </tbody>\n",
       "</table>\n",
       "</div>"
      ],
      "text/plain": [
       "                      Precision\n",
       "Rater Answer 5 Label           \n",
       "Bad                    0.207081\n",
       "Exceptional            0.188737\n",
       "Great                  0.197964\n",
       "Intermediate           0.195233\n",
       "Okay                   0.193596"
      ]
     },
     "execution_count": 197,
     "metadata": {},
     "output_type": "execute_result"
    }
   ],
   "source": [
    "print('Precision for each of the 5 labels:')\n",
    "precision = df[['Rater Answer 5 Label', 'Five Label Agreement']].groupby('Rater Answer 5 Label').mean()\n",
    "precision.columns = ['Precision']\n",
    "precision"
   ]
  },
  {
   "cell_type": "markdown",
   "metadata": {},
   "source": [
    "# What is the recall for each of the 5 labels?"
   ]
  },
  {
   "cell_type": "code",
   "execution_count": 161,
   "metadata": {
    "ExecuteTime": {
     "end_time": "2020-07-22T23:00:15.768961Z",
     "start_time": "2020-07-22T23:00:15.743117Z"
    }
   },
   "outputs": [],
   "source": [
    "ratings_grouped = df[['Rater Answer 5 Label', 'Five Label Agreement']].groupby('Rater Answer 5 Label').sum()"
   ]
  },
  {
   "cell_type": "code",
   "execution_count": 189,
   "metadata": {
    "ExecuteTime": {
     "end_time": "2020-07-22T23:20:11.456069Z",
     "start_time": "2020-07-22T23:20:11.430148Z"
    }
   },
   "outputs": [],
   "source": [
    "recall_bad = (ratings_grouped.loc[(ratings_grouped.index == \"Bad\")]['Five Label Agreement'][0]/\n",
    "              ratings_grouped['Five Label Agreement'].sum())\n",
    "\n",
    "recall_exceptional = (ratings_grouped.loc[(ratings_grouped.index == \"Exceptional\")]['Five Label Agreement'][0]/\n",
    "              ratings_grouped['Five Label Agreement'].sum())\n",
    "\n",
    "recall_great = (ratings_grouped.loc[(ratings_grouped.index == \"Great\")]['Five Label Agreement'][0]/\n",
    "              ratings_grouped['Five Label Agreement'].sum())\n",
    "\n",
    "recall_intermediate = (ratings_grouped.loc[(ratings_grouped.index == \"Intermediate\")]['Five Label Agreement'][0]/\n",
    "              ratings_grouped['Five Label Agreement'].sum())\n",
    "\n",
    "recall_okay = (ratings_grouped.loc[(ratings_grouped.index == \"Okay\")]['Five Label Agreement'][0]/\n",
    "              ratings_grouped['Five Label Agreement'].sum())"
   ]
  },
  {
   "cell_type": "code",
   "execution_count": 199,
   "metadata": {
    "ExecuteTime": {
     "end_time": "2020-07-22T23:24:41.098138Z",
     "start_time": "2020-07-22T23:24:41.074975Z"
    }
   },
   "outputs": [
    {
     "data": {
      "text/html": [
       "<div>\n",
       "<style scoped>\n",
       "    .dataframe tbody tr th:only-of-type {\n",
       "        vertical-align: middle;\n",
       "    }\n",
       "\n",
       "    .dataframe tbody tr th {\n",
       "        vertical-align: top;\n",
       "    }\n",
       "\n",
       "    .dataframe thead th {\n",
       "        text-align: right;\n",
       "    }\n",
       "</style>\n",
       "<table border=\"1\" class=\"dataframe\">\n",
       "  <thead>\n",
       "    <tr style=\"text-align: right;\">\n",
       "      <th></th>\n",
       "      <th>Recall</th>\n",
       "    </tr>\n",
       "  </thead>\n",
       "  <tbody>\n",
       "    <tr>\n",
       "      <th>Bad</th>\n",
       "      <td>0.217192</td>\n",
       "    </tr>\n",
       "    <tr>\n",
       "      <th>Exceptional</th>\n",
       "      <td>0.189217</td>\n",
       "    </tr>\n",
       "    <tr>\n",
       "      <th>Great</th>\n",
       "      <td>0.197864</td>\n",
       "    </tr>\n",
       "    <tr>\n",
       "      <th>Intermediate</th>\n",
       "      <td>0.195829</td>\n",
       "    </tr>\n",
       "    <tr>\n",
       "      <th>Okay</th>\n",
       "      <td>0.199898</td>\n",
       "    </tr>\n",
       "  </tbody>\n",
       "</table>\n",
       "</div>"
      ],
      "text/plain": [
       "                Recall\n",
       "Bad           0.217192\n",
       "Exceptional   0.189217\n",
       "Great         0.197864\n",
       "Intermediate  0.195829\n",
       "Okay          0.199898"
      ]
     },
     "execution_count": 199,
     "metadata": {},
     "output_type": "execute_result"
    }
   ],
   "source": [
    "pd.DataFrame(index = ['Bad', 'Exceptional', 'Great', 'Intermediate', 'Okay'], \n",
    "             data = [recall_bad, recall_exceptional, recall_great, recall_intermediate, recall_okay ],\n",
    "            columns = ['Recall'])\n",
    "        "
   ]
  },
  {
   "cell_type": "markdown",
   "metadata": {},
   "source": [
    "# What is the recall for each of the 3 labels?"
   ]
  },
  {
   "cell_type": "code",
   "execution_count": 202,
   "metadata": {
    "ExecuteTime": {
     "end_time": "2020-07-22T23:30:38.043193Z",
     "start_time": "2020-07-22T23:30:38.024246Z"
    }
   },
   "outputs": [
    {
     "data": {
      "text/html": [
       "<div>\n",
       "<style scoped>\n",
       "    .dataframe tbody tr th:only-of-type {\n",
       "        vertical-align: middle;\n",
       "    }\n",
       "\n",
       "    .dataframe tbody tr th {\n",
       "        vertical-align: top;\n",
       "    }\n",
       "\n",
       "    .dataframe thead th {\n",
       "        text-align: right;\n",
       "    }\n",
       "</style>\n",
       "<table border=\"1\" class=\"dataframe\">\n",
       "  <thead>\n",
       "    <tr style=\"text-align: right;\">\n",
       "      <th></th>\n",
       "      <th>Three Label Agreement</th>\n",
       "    </tr>\n",
       "    <tr>\n",
       "      <th>Rater Answer 3 Label</th>\n",
       "      <th></th>\n",
       "    </tr>\n",
       "  </thead>\n",
       "  <tbody>\n",
       "    <tr>\n",
       "      <th>Average</th>\n",
       "      <td>1028.0</td>\n",
       "    </tr>\n",
       "    <tr>\n",
       "      <th>High</th>\n",
       "      <td>1099.0</td>\n",
       "    </tr>\n",
       "    <tr>\n",
       "      <th>Low</th>\n",
       "      <td>1066.0</td>\n",
       "    </tr>\n",
       "  </tbody>\n",
       "</table>\n",
       "</div>"
      ],
      "text/plain": [
       "                      Three Label Agreement\n",
       "Rater Answer 3 Label                       \n",
       "Average                              1028.0\n",
       "High                                 1099.0\n",
       "Low                                  1066.0"
      ]
     },
     "execution_count": 202,
     "metadata": {},
     "output_type": "execute_result"
    }
   ],
   "source": [
    "ratings_grouped_3 = df[['Rater Answer 3 Label', 'Three Label Agreement']].groupby('Rater Answer 3 Label').sum()\n",
    "ratings_grouped_3"
   ]
  },
  {
   "cell_type": "code",
   "execution_count": 204,
   "metadata": {
    "ExecuteTime": {
     "end_time": "2020-07-22T23:31:46.932219Z",
     "start_time": "2020-07-22T23:31:46.915263Z"
    }
   },
   "outputs": [],
   "source": [
    "recall_average = (ratings_grouped_3.loc[(ratings_grouped_3.index == \"Average\")]['Three Label Agreement'][0]/\n",
    "              ratings_grouped_3['Three Label Agreement'].sum())\n",
    "recall_high = (ratings_grouped_3.loc[(ratings_grouped_3.index == \"High\")]['Three Label Agreement'][0]/\n",
    "              ratings_grouped_3['Three Label Agreement'].sum())\n",
    "recall_low = (ratings_grouped_3.loc[(ratings_grouped_3.index == \"Low\")]['Three Label Agreement'][0]/\n",
    "              ratings_grouped_3['Three Label Agreement'].sum())"
   ]
  },
  {
   "cell_type": "code",
   "execution_count": 205,
   "metadata": {
    "ExecuteTime": {
     "end_time": "2020-07-22T23:32:50.434955Z",
     "start_time": "2020-07-22T23:32:50.421994Z"
    }
   },
   "outputs": [
    {
     "data": {
      "text/html": [
       "<div>\n",
       "<style scoped>\n",
       "    .dataframe tbody tr th:only-of-type {\n",
       "        vertical-align: middle;\n",
       "    }\n",
       "\n",
       "    .dataframe tbody tr th {\n",
       "        vertical-align: top;\n",
       "    }\n",
       "\n",
       "    .dataframe thead th {\n",
       "        text-align: right;\n",
       "    }\n",
       "</style>\n",
       "<table border=\"1\" class=\"dataframe\">\n",
       "  <thead>\n",
       "    <tr style=\"text-align: right;\">\n",
       "      <th></th>\n",
       "      <th>Recall</th>\n",
       "    </tr>\n",
       "  </thead>\n",
       "  <tbody>\n",
       "    <tr>\n",
       "      <th>Low</th>\n",
       "      <td>0.333855</td>\n",
       "    </tr>\n",
       "    <tr>\n",
       "      <th>Average</th>\n",
       "      <td>0.321954</td>\n",
       "    </tr>\n",
       "    <tr>\n",
       "      <th>High</th>\n",
       "      <td>0.344190</td>\n",
       "    </tr>\n",
       "  </tbody>\n",
       "</table>\n",
       "</div>"
      ],
      "text/plain": [
       "           Recall\n",
       "Low      0.333855\n",
       "Average  0.321954\n",
       "High     0.344190"
      ]
     },
     "execution_count": 205,
     "metadata": {},
     "output_type": "execute_result"
    }
   ],
   "source": [
    "pd.DataFrame(index = ['Low', 'Average', 'High'], \n",
    "             data = [recall_low, recall_average, recall_high],\n",
    "            columns = ['Recall'])"
   ]
  },
  {
   "cell_type": "markdown",
   "metadata": {},
   "source": [
    "# What approaches do you recommend you need to take to improve your metrics, if the metric has not met engineering standards?"
   ]
  },
  {
   "cell_type": "markdown",
   "metadata": {},
   "source": [
    "Approaches that should be done is to ensure raters and engineers are on the same page on forming their results and conclusions. Because there is such a wide disparity between the ratings done by raters and ratings done by engineers, it shows that there are differences in how engineers and raters conclude their answers. "
   ]
  },
  {
   "cell_type": "markdown",
   "metadata": {},
   "source": [
    "Another idea for raters to have a higher matches of ratings is to have the engineers and raters collaboratively rate a couple of samples before splitting them off to rate separately."
   ]
  },
  {
   "cell_type": "markdown",
   "metadata": {},
   "source": [
    "Through this method, engineers are able to see each other's point of view which would help lead to smaller discrepancy in ratings. "
   ]
  },
  {
   "cell_type": "markdown",
   "metadata": {},
   "source": [
    "Some raters may perform better than others could be due to a myriad of factors like background and personal preferences."
   ]
  },
  {
   "cell_type": "markdown",
   "metadata": {},
   "source": [
    "# Step 5"
   ]
  },
  {
   "cell_type": "markdown",
   "metadata": {},
   "source": [
    "1. What is the F1 score for each rater for 3-label ratings? For 5 label ratings?\n",
    "\n",
    "2. What is the MCC score for each rater for 3-label ratings? For 5 label ratings?\n",
    "\n",
    "3. What is the average rating made by raters for each, three label ratings and five label ratings, compared to the ratings made by engineers? Given that the ratings are numbered {Low: 1, Average: 2, High: 3}, and {Bad:1, Okay:2, Intermediate:3, Great:4, Exceptional:5}."
   ]
  },
  {
   "cell_type": "markdown",
   "metadata": {},
   "source": [
    "# Step 6"
   ]
  },
  {
   "cell_type": "markdown",
   "metadata": {},
   "source": [
    "Sql command on finding agreement rates for each rater on October 6th."
   ]
  },
  {
   "cell_type": "code",
   "execution_count": 222,
   "metadata": {
    "ExecuteTime": {
     "end_time": "2020-07-23T03:15:38.264490Z",
     "start_time": "2020-07-23T03:15:38.081924Z"
    }
   },
   "outputs": [
    {
     "name": "stdout",
     "output_type": "stream",
     "text": [
      "  Rater Column  (avg(`Three Label Agreement`)+avg(`Five Label Agreement`))/2\n",
      "0            A                                           0.242857           \n",
      "1            B                                           0.250000           \n",
      "2            C                                           0.219697           \n",
      "3            D                                           0.306667           \n",
      "4            E                                           0.246377           \n"
     ]
    }
   ],
   "source": [
    "print(sqldf(\"select `Rater Column`, (avg(`Three Label Agreement`)+avg(`Five Label Agreement`))/2 from df where `Date Column` = '10-06-05' group by `Rater Column` \"))"
   ]
  },
  {
   "cell_type": "code",
   "execution_count": 223,
   "metadata": {
    "ExecuteTime": {
     "end_time": "2020-07-23T03:16:49.503361Z",
     "start_time": "2020-07-23T03:16:49.483419Z"
    }
   },
   "outputs": [
    {
     "data": {
      "text/html": [
       "<div>\n",
       "<style scoped>\n",
       "    .dataframe tbody tr th:only-of-type {\n",
       "        vertical-align: middle;\n",
       "    }\n",
       "\n",
       "    .dataframe tbody tr th {\n",
       "        vertical-align: top;\n",
       "    }\n",
       "\n",
       "    .dataframe thead th {\n",
       "        text-align: right;\n",
       "    }\n",
       "</style>\n",
       "<table border=\"1\" class=\"dataframe\">\n",
       "  <thead>\n",
       "    <tr style=\"text-align: right;\">\n",
       "      <th></th>\n",
       "      <th>Date Column</th>\n",
       "      <th>Rater Column</th>\n",
       "      <th>Correct Answer 3 Label</th>\n",
       "      <th>Correct Answer 5 Label</th>\n",
       "      <th>Rater Answer 3 Label</th>\n",
       "      <th>Rater Answer 5 Label</th>\n",
       "      <th>Task ID</th>\n",
       "      <th>Three Label Agreement</th>\n",
       "      <th>Five Label Agreement</th>\n",
       "    </tr>\n",
       "  </thead>\n",
       "  <tbody>\n",
       "    <tr>\n",
       "      <th>0</th>\n",
       "      <td>10-17-05</td>\n",
       "      <td>B</td>\n",
       "      <td>Average</td>\n",
       "      <td>Intermediate</td>\n",
       "      <td>Low</td>\n",
       "      <td>Okay</td>\n",
       "      <td>1</td>\n",
       "      <td>False</td>\n",
       "      <td>False</td>\n",
       "    </tr>\n",
       "    <tr>\n",
       "      <th>1</th>\n",
       "      <td>10-29-05</td>\n",
       "      <td>A</td>\n",
       "      <td>High</td>\n",
       "      <td>Bad</td>\n",
       "      <td>Average</td>\n",
       "      <td>Bad</td>\n",
       "      <td>2</td>\n",
       "      <td>False</td>\n",
       "      <td>True</td>\n",
       "    </tr>\n",
       "    <tr>\n",
       "      <th>2</th>\n",
       "      <td>10-21-05</td>\n",
       "      <td>A</td>\n",
       "      <td>Average</td>\n",
       "      <td>Intermediate</td>\n",
       "      <td>Average</td>\n",
       "      <td>Exceptional</td>\n",
       "      <td>3</td>\n",
       "      <td>True</td>\n",
       "      <td>False</td>\n",
       "    </tr>\n",
       "    <tr>\n",
       "      <th>3</th>\n",
       "      <td>10-17-05</td>\n",
       "      <td>C</td>\n",
       "      <td>Average</td>\n",
       "      <td>Bad</td>\n",
       "      <td>Low</td>\n",
       "      <td>Intermediate</td>\n",
       "      <td>4</td>\n",
       "      <td>False</td>\n",
       "      <td>False</td>\n",
       "    </tr>\n",
       "    <tr>\n",
       "      <th>4</th>\n",
       "      <td>10-01-05</td>\n",
       "      <td>C</td>\n",
       "      <td>Average</td>\n",
       "      <td>Great</td>\n",
       "      <td>Average</td>\n",
       "      <td>Bad</td>\n",
       "      <td>5</td>\n",
       "      <td>True</td>\n",
       "      <td>False</td>\n",
       "    </tr>\n",
       "  </tbody>\n",
       "</table>\n",
       "</div>"
      ],
      "text/plain": [
       "  Date Column Rater Column Correct Answer 3 Label Correct Answer 5 Label  \\\n",
       "0    10-17-05            B                Average           Intermediate   \n",
       "1    10-29-05            A                   High                    Bad   \n",
       "2    10-21-05            A                Average           Intermediate   \n",
       "3    10-17-05            C                Average                    Bad   \n",
       "4    10-01-05            C                Average                  Great   \n",
       "\n",
       "  Rater Answer 3 Label Rater Answer 5 Label  Task ID  Three Label Agreement  \\\n",
       "0                  Low                 Okay        1                  False   \n",
       "1              Average                  Bad        2                  False   \n",
       "2              Average          Exceptional        3                   True   \n",
       "3                  Low         Intermediate        4                  False   \n",
       "4              Average                  Bad        5                   True   \n",
       "\n",
       "   Five Label Agreement  \n",
       "0                 False  \n",
       "1                  True  \n",
       "2                 False  \n",
       "3                 False  \n",
       "4                 False  "
      ]
     },
     "execution_count": 223,
     "metadata": {},
     "output_type": "execute_result"
    }
   ],
   "source": [
    "df.head()"
   ]
  },
  {
   "cell_type": "code",
   "execution_count": null,
   "metadata": {},
   "outputs": [],
   "source": []
  }
 ],
 "metadata": {
  "kernelspec": {
   "display_name": "Python 3",
   "language": "python",
   "name": "python3"
  },
  "language_info": {
   "codemirror_mode": {
    "name": "ipython",
    "version": 3
   },
   "file_extension": ".py",
   "mimetype": "text/x-python",
   "name": "python",
   "nbconvert_exporter": "python",
   "pygments_lexer": "ipython3",
   "version": "3.7.3"
  },
  "toc": {
   "base_numbering": 1,
   "nav_menu": {},
   "number_sections": true,
   "sideBar": true,
   "skip_h1_title": false,
   "title_cell": "Table of Contents",
   "title_sidebar": "Contents",
   "toc_cell": false,
   "toc_position": {},
   "toc_section_display": true,
   "toc_window_display": false
  }
 },
 "nbformat": 4,
 "nbformat_minor": 2
}
